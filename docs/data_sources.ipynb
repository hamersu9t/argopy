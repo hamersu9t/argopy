{
 "cells": [
  {
   "cell_type": "code",
   "execution_count": null,
   "metadata": {
    "nbsphinx": "hidden"
   },
   "outputs": [],
   "source": [
    "# HIDDEN CELL\n",
    "import sys, os\n",
    "\n",
    "# Importing argopy in dev mode:\n",
    "on_rtd = os.environ.get('READTHEDOCS', None) == 'True'\n",
    "if not on_rtd:\n",
    "    sys.path.insert(0, \"/Users/gmaze/git/github/euroargodev/argopy\")\n",
    "    import git\n",
    "    import argopy\n",
    "    from argopy.options import OPTIONS\n",
    "    print(\"argopy:\", argopy.__version__, \n",
    "          \"\\nsrc:\", argopy.__file__, \n",
    "          \"\\nbranch:\", git.Repo(search_parent_directories=True).active_branch.name, \n",
    "          \"\\noptions:\", OPTIONS)\n",
    "else:\n",
    "    sys.path.insert(0, os.path.abspath('..'))\n",
    "\n",
    "import xarray as xr\n",
    "# xr.set_options(display_style=\"html\");\n",
    "xr.set_options(display_style=\"text\");"
   ]
  },
  {
   "cell_type": "code",
   "execution_count": null,
   "metadata": {},
   "outputs": [],
   "source": [
    "import argopy\n",
    "from argopy import DataFetcher as ArgoDataFetcher"
   ]
  },
  {
   "cell_type": "markdown",
   "metadata": {
    "toc-hr-collapsed": false
   },
   "source": [
    "# Data sources"
   ]
  },
  {
   "cell_type": "markdown",
   "metadata": {},
   "source": [
    "## Selecting a source"
   ]
  },
  {
   "cell_type": "markdown",
   "metadata": {},
   "source": [
    "**argopy** can get access to Argo data from different sources: \n",
    "\n",
    "1. the [Ifremer erddap server](http://www.ifremer.fr/erddap).  \n",
    "\n",
    "    The erddap server database is updated daily and doesn't require you to download anymore data than what you need.  \n",
    "    You can select this data source with the keyword ``errdap`` and methods described below.\n",
    "    \n",
    "1. your local collection of Argo files, organised as in the [GDAC ftp](http://www.argodatamgt.org/Access-to-data/Access-via-FTP-on-GDAC).\n",
    "\n",
    "    This is how you would use **argopy** with your data, as long as they are formated and organised the Argo way.  \n",
    "    You can select this data source with the keyword ``localftp`` and methods described below.\n",
    "\n",
    "1. the [Argovis server](https://argovis.colorado.edu/).\n",
    "\n",
    "    The Argovis server database is updated daily and provides access to curated Argo data (QC=1 only).\n",
    "    You can select this data source with the keyword ``argovis`` and methods described below."
   ]
  },
  {
   "cell_type": "markdown",
   "metadata": {},
   "source": [
    "You have several ways to specify which data source you want to use:\n",
    "\n",
    "* **using argopy global options**:"
   ]
  },
  {
   "cell_type": "code",
   "execution_count": null,
   "metadata": {},
   "outputs": [],
   "source": [
    "argopy.set_options(src='erddap')"
   ]
  },
  {
   "cell_type": "markdown",
   "metadata": {},
   "source": [
    "* **in a temporary context**:"
   ]
  },
  {
   "cell_type": "code",
   "execution_count": null,
   "metadata": {},
   "outputs": [],
   "source": [
    "with argopy.set_options(src='erddap'):\n",
    "    loader = ArgoDataFetcher().profile(6902746, 34)"
   ]
  },
  {
   "cell_type": "markdown",
   "metadata": {},
   "source": [
    "- **with an argument in the data fetcher**:"
   ]
  },
  {
   "cell_type": "code",
   "execution_count": null,
   "metadata": {},
   "outputs": [],
   "source": [
    "loader = ArgoDataFetcher(src='erddap').profile(6902746, 34)"
   ]
  },
  {
   "cell_type": "markdown",
   "metadata": {},
   "source": [
    "## Setting a local copy of the GDAC ftp\n",
    "\n",
    "Data fetching with the ``localftp`` data source will require you to specify the path toward your local copy of the GDAC ftp server with the ``local_ftp`` option.\n",
    "\n",
    "This is not an issue for expert users, but standard users may wonder how to set this up.\n",
    "The primary distribution point for Argo data, the only one with full support from data centers and with nearly a 100% time availability, is the GDAC ftp. Two mirror servers are available:\n",
    "\n",
    "- France Coriolis: ftp://ftp.ifremer.fr/ifremer/argo\n",
    "- US GODAE: ftp://usgodae.org/pub/outgoing/argo\n",
    "\n",
    "If you want to get your own copy of the ftp server content, Ifremer provides a nice rsync service. The rsync server \"vdmzrs.ifremer.fr\" provides a synchronization service between the \"dac\" directory of the GDAC and a user mirror. The \"dac\" index files are also available from \"argo-index\".\n",
    "\n",
    "From the user side, the rsync service:\n",
    "\n",
    "- Downloads the new files\n",
    "- Downloads the updated files\n",
    "- Removes the files that have been removed from the GDAC\n",
    "- Compresses/uncompresses the files during the transfer\n",
    "- Preserves the files creation/update dates\n",
    "- Lists all the files that have been transferred (easy to use for a user side post-processing)\n",
    "\n",
    "To synchronize the whole dac directory of the Argo GDAC:\n",
    "```bash\n",
    "rsync -avzh --delete vdmzrs.ifremer.fr::argo/ /home/mydirectory/...\n",
    "```\n",
    "\n",
    "To synchronize the index:\n",
    "```bash\n",
    "rsync -avzh --delete vdmzrs.ifremer.fr::argo-index/ /home/mydirectory/...\n",
    "```"
   ]
  },
  {
   "cell_type": "raw",
   "metadata": {
    "raw_mimetype": "text/restructuredtext"
   },
   "source": [
    ".. note::\n",
    "\n",
    "    The first synchronisation of the whole dac directory of the Argo GDAC (365Gb) can take quite a long time (several hours)."
   ]
  },
  {
   "cell_type": "markdown",
   "metadata": {},
   "source": [
    "## Comparing data sources"
   ]
  },
  {
   "cell_type": "markdown",
   "metadata": {},
   "source": [
    "### Features"
   ]
  },
  {
   "cell_type": "markdown",
   "metadata": {},
   "source": [
    "Each of the available data sources have their own features and capabilities. Here is a summary:\n",
    "\n",
    "| Data source:            | erddap | localftp | argovis |\n",
    "|-------------------------|:------:|:--------:|:-------:|\n",
    "| **Access Points**       |        |          |         |\n",
    "| region                  |    X   |     X    |    X    |\n",
    "| float                   |    X   |     X    |    X    |\n",
    "| profile                 |    X   |     X    |    X    |\n",
    "| **User mode**           |        |          |         |\n",
    "| standard                |    X   |     X    |    X    |\n",
    "| expert                  |    X   |     X    |         |\n",
    "| **Dataset**             |        |          |         |\n",
    "| core                    |    X   |     X    |    X    |\n",
    "| BGC                     |        |          |         |\n",
    "| Reference data for DMQC |    X   |          |         |\n",
    "| **Parallel method**     |        |          |         |\n",
    "| multi-thread            |    X   |     X    |    X    |\n",
    "| multi-process           |        |          |         |\n",
    "| Dask client             |        |          |         |"
   ]
  },
  {
   "cell_type": "markdown",
   "metadata": {},
   "source": [
    "### Fetched data and variables"
   ]
  },
  {
   "cell_type": "markdown",
   "metadata": {},
   "source": [
    "You may wonder if the fetched data are different from the available data sources.  \n",
    "This will depend on the last update of each data sources and of your local data."
   ]
  },
  {
   "cell_type": "raw",
   "metadata": {
    "raw_mimetype": "text/restructuredtext"
   },
   "source": [
    "Let's retrieve one float data from a local sample of the GDAC ftp (a sample GDAC ftp is downloaded automatically with the method :meth:`argopy.tutorial.open_dataset`):"
   ]
  },
  {
   "cell_type": "code",
   "execution_count": null,
   "metadata": {},
   "outputs": [],
   "source": [
    "# Download ftp sample and get the ftp local path:\n",
    "ftproot = argopy.tutorial.open_dataset('localftp')[0]\n",
    "\n",
    "# then fetch data:\n",
    "with argopy.set_options(src='localftp', local_ftp=ftproot):\n",
    "    ds = ArgoDataFetcher().float(1900857).to_xarray()\n",
    "    print(ds)"
   ]
  },
  {
   "cell_type": "markdown",
   "metadata": {},
   "source": [
    "Let's now retrieve the latest data for this float from the ``erddap``:"
   ]
  },
  {
   "cell_type": "code",
   "execution_count": null,
   "metadata": {},
   "outputs": [],
   "source": [
    "with argopy.set_options(src='erddap'):\n",
    "    ds = ArgoDataFetcher().float(1900857).to_xarray()\n",
    "    print(ds)"
   ]
  },
  {
   "cell_type": "code",
   "execution_count": null,
   "metadata": {},
   "outputs": [],
   "source": [
    "with argopy.set_options(src='argovis'):\n",
    "    ds = ArgoDataFetcher().float(1900857).to_xarray()\n",
    "    print(ds)"
   ]
  },
  {
   "cell_type": "markdown",
   "metadata": {},
   "source": [
    "We can see some minor differences between ``localftp``/``erddap`` vs the ``argovis`` response: this later data source does not include the descending part of the first profile, this explains why ``argovis`` returns slightly less data."
   ]
  }
 ],
 "metadata": {
  "kernelspec": {
   "display_name": "Python 3",
   "language": "python",
   "name": "python3"
  },
  "language_info": {
   "codemirror_mode": {
    "name": "ipython",
    "version": 3
   },
   "file_extension": ".py",
   "mimetype": "text/x-python",
   "name": "python",
   "nbconvert_exporter": "python",
   "pygments_lexer": "ipython3",
   "version": "3.6.10"
  },
  "widgets": {
   "application/vnd.jupyter.widget-state+json": {
    "state": {},
    "version_major": 2,
    "version_minor": 0
   }
  }
 },
 "nbformat": 4,
 "nbformat_minor": 4
}
