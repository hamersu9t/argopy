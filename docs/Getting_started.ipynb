{
 "cells": [
  {
   "cell_type": "markdown",
   "metadata": {},
   "source": [
    "# ![argopy logo](https://avatars1.githubusercontent.com/t/3711886?s=90&v=4) Argo data python library\n",
    "\n",
    "![build](https://github.com/euroargodev/argopy/workflows/build/badge.svg?branch=feature-fetch-local-ftp)\n",
    "[![codecov](https://codecov.io/gh/euroargodev/argopy/branch/feature-fetch-local-ftp/graph/badge.svg)](https://codecov.io/gh/euroargodev/argopy)\n",
    "[![Requirements Status](https://requires.io/github/euroargodev/argopy/requirements.svg?branch=feature-fetch-local-ftp)](https://requires.io/github/euroargodev/argopy/requirements/?branch=feature-fetch-local-ftp)\n",
    "\n",
    "``argopy`` is a python library that aims to ease Argo data access, visualisation and manipulation for regular users as well as Argo experts and operators.\n",
    "\n",
    "Several python packages exist: we are currently in the process of analysing how to merge these libraries toward a single powerfull tool. [List your tool here !](https://github.com/euroargodev/argopy/issues/3)\n",
    "\n",
    "## Install\n",
    "\n",
    "Since this is a library in active development, use direct install from this repo to benefit from the last version:\n",
    "\n",
    "```bash\n",
    "pip install git+http://github.com/euroargodev/argopy.git@master\n",
    "```\n",
    "\n",
    "The ``argopy`` library should work under all OS (Linux, Mac and Windows) and with python versions 3.6, 3.7 and 3.8.\n",
    "\n",
    "**The libray is already installed to run this notebook**."
   ]
  },
  {
   "cell_type": "markdown",
   "metadata": {},
   "source": [
    "# Import"
   ]
  },
  {
   "cell_type": "code",
   "execution_count": null,
   "metadata": {},
   "outputs": [],
   "source": [
    "import os\n",
    "import numpy as np\n",
    "import xarray as xr\n",
    "\n",
    "import argopy\n",
    "from argopy import DataFetcher as ArgoDataFetcher"
   ]
  },
  {
   "cell_type": "markdown",
   "metadata": {
    "toc-hr-collapsed": true
   },
   "source": [
    "## Fetching Argo Data\n",
    "Note that the primary data model used to manipulate Argo data is [xarray](https://github.com/pydata/xarray).\n",
    "\n",
    "Init the default data fetcher like:\n"
   ]
  },
  {
   "cell_type": "code",
   "execution_count": null,
   "metadata": {},
   "outputs": [],
   "source": [
    "argo_loader = ArgoDataFetcher()\n",
    "argo_loader"
   ]
  },
  {
   "cell_type": "markdown",
   "metadata": {},
   "source": [
    "#### Space/time domain"
   ]
  },
  {
   "cell_type": "code",
   "execution_count": null,
   "metadata": {},
   "outputs": [],
   "source": [
    "ds = argo_loader.region([-85,-45,10.,20.,0,10.]).to_xarray()\n",
    "ds"
   ]
  },
  {
   "cell_type": "markdown",
   "metadata": {},
   "source": [
    "you can also specify a date range:"
   ]
  },
  {
   "cell_type": "code",
   "execution_count": null,
   "metadata": {},
   "outputs": [],
   "source": [
    "ds = argo_loader.region([-85,-45,10.,20.,0,1000.,'2012-01','2014-12']).to_xarray()\n",
    "ds"
   ]
  },
  {
   "cell_type": "markdown",
   "metadata": {},
   "source": [
    "#### Profiles of a given float\n",
    "\n",
    "This fetch data for the float ID 6902746 and cycle number 34:"
   ]
  },
  {
   "cell_type": "code",
   "execution_count": null,
   "metadata": {},
   "outputs": [],
   "source": [
    "ds = argo_loader.profile(6902746, 34).to_xarray()\n",
    "ds"
   ]
  },
  {
   "cell_type": "markdown",
   "metadata": {},
   "source": [
    "You can also retrieve a list of cycles:"
   ]
  },
  {
   "cell_type": "code",
   "execution_count": null,
   "metadata": {},
   "outputs": [],
   "source": [
    "ds = argo_loader.profile(6902746, np.arange(12,45)).to_xarray()\n",
    "ds"
   ]
  },
  {
   "cell_type": "markdown",
   "metadata": {},
   "source": [
    "#### One or more floats"
   ]
  },
  {
   "cell_type": "code",
   "execution_count": null,
   "metadata": {},
   "outputs": [],
   "source": [
    "ds = argo_loader.float(6902746).to_xarray()\n",
    "ds"
   ]
  },
  {
   "cell_type": "code",
   "execution_count": null,
   "metadata": {},
   "outputs": [],
   "source": [
    "ds = argo_loader.float([6902746, 6902747, 6902757, 6902766]).to_xarray()\n",
    "ds"
   ]
  },
  {
   "cell_type": "markdown",
   "metadata": {
    "toc-hr-collapsed": true
   },
   "source": [
    "## More advanced data fetching\n",
    "\n",
    "Two Argo data fetchers are available."
   ]
  },
  {
   "cell_type": "markdown",
   "metadata": {},
   "source": [
    "#### The Ifremer erddap\n",
    "This is the recommended and default fetching backend.\n",
    "\n",
    "Not that it requires an internet connection."
   ]
  },
  {
   "cell_type": "code",
   "execution_count": null,
   "metadata": {},
   "outputs": [],
   "source": [
    "argo_loader = ArgoDataFetcher(backend='erddap')\n",
    "ds = argo_loader.profile(6902746, 34).to_xarray()\n",
    "ds"
   ]
  },
  {
   "cell_type": "markdown",
   "metadata": {},
   "source": [
    "#### A local copy of the GDAC ftp\n",
    "\n",
    "**If you don't know what GDAC means, you should not go down this line...**\n",
    "\n",
    "This is a more complex fetching backend since it requires you to have a local copy of files from the GDAC ftp server.\n",
    "\n",
    "Note that Argo provides monthly snapshots of the entire datasets (eg: [2020/02](https://www.seanoe.org/data/00311/42182/#70590) and [full list here](http://www.argodatamgt.org/Access-to-data/Argo-DOI-Digital-Object-Identifier)). This is great for reproducibility.\n",
    "\n",
    "You can also managed a [synchronised copy of the GDAC using rsync](http://www.argodatamgt.org/Access-to-data/Argo-GDAC-synchronization-service).\n",
    "\n",
    "This data fetching method is usefull for Argo experts and operators, but also because it provides an offline access to the dataset.\n",
    "\n",
    "To initiate the fetcher, you need to use the ``backend`` option and more importantly to specify the path toward the local copy of the ftp dataset (more specifically the path where all DAC are listed).\n",
    "\n",
    "**For demonstration purposes**, we will rely here on a dummy sample of GDAC ftp files provides by the ``argopy`` tutorial module:"
   ]
  },
  {
   "cell_type": "code",
   "execution_count": null,
   "metadata": {},
   "outputs": [],
   "source": [
    "ftproot, flist = argopy.tutorial.open_dataset('localftp')\n",
    "print(ftproot)"
   ]
  },
  {
   "cell_type": "markdown",
   "metadata": {},
   "source": [
    "Under this path, we have downloaded some Argo netcdf files. For instance:"
   ]
  },
  {
   "cell_type": "code",
   "execution_count": null,
   "metadata": {},
   "outputs": [],
   "source": [
    "flist[14]"
   ]
  },
  {
   "cell_type": "code",
   "execution_count": null,
   "metadata": {},
   "outputs": [],
   "source": [
    "argo_loader = ArgoDataFetcher(backend='localftp', path_ftp=os.path.join(ftproot, 'dac'))\n",
    "ds = argo_loader.float(3902131).to_xarray()\n",
    "ds"
   ]
  },
  {
   "cell_type": "markdown",
   "metadata": {},
   "source": [
    "Note that to avoid specifying on each request the local ftp path copy, you can use the handy options setter:"
   ]
  },
  {
   "cell_type": "code",
   "execution_count": null,
   "metadata": {},
   "outputs": [],
   "source": [
    "argopy.set_options(local_ftp=os.path.join(ftproot, 'dac'))"
   ]
  },
  {
   "cell_type": "markdown",
   "metadata": {},
   "source": [
    "Options are valid only throughout a python session, so you have to set this option at the beginning of your script.\n",
    "\n",
    "So now, we don't have to specify the path anymore:"
   ]
  },
  {
   "cell_type": "code",
   "execution_count": null,
   "metadata": {},
   "outputs": [],
   "source": [
    "ArgoDataFetcher(backend='localftp').float(3902131).to_xarray()"
   ]
  },
  {
   "cell_type": "markdown",
   "metadata": {
    "toc-hr-collapsed": true
   },
   "source": [
    "## Fetched data manipulation"
   ]
  },
  {
   "cell_type": "markdown",
   "metadata": {},
   "source": [
    "#### Point vs profile\n",
    "As you probably have noticed now, data are returned as a collection of measurements along the dimension ``index``.\n",
    "\n",
    "If you want to convert them into a collection of profiles, you can use methods from the xarray accessor named ``argo``:"
   ]
  },
  {
   "cell_type": "code",
   "execution_count": null,
   "metadata": {},
   "outputs": [],
   "source": [
    "ds_as_points = ArgoDataFetcher().float(5903248).to_xarray()\n",
    "ds_as_points"
   ]
  },
  {
   "cell_type": "markdown",
   "metadata": {},
   "source": [
    "Now to convert this dataset into a collection of profiles:"
   ]
  },
  {
   "cell_type": "code",
   "execution_count": null,
   "metadata": {},
   "outputs": [],
   "source": [
    "ds_as_profiles = ds_as_points.argo.point2profile()\n",
    "ds_as_profiles"
   ]
  },
  {
   "cell_type": "markdown",
   "metadata": {},
   "source": [
    "And finaly you can reverse that operation with the companion method:"
   ]
  },
  {
   "cell_type": "code",
   "execution_count": null,
   "metadata": {},
   "outputs": [],
   "source": [
    "ds_as_profiles.argo.profile2point()"
   ]
  },
  {
   "cell_type": "markdown",
   "metadata": {},
   "source": [
    "#### Other formats"
   ]
  },
  {
   "cell_type": "markdown",
   "metadata": {},
   "source": [
    "By default fetched data are returned in memory as [xarray.DataSet](http://xarray.pydata.org/en/stable/data-structures.html#dataset). \n",
    "From there, it is easy to convert them to other formats like a [Pandas dataframe](https://pandas.pydata.org/pandas-docs/stable/getting_started/dsintro.html#dataframe):"
   ]
  },
  {
   "cell_type": "code",
   "execution_count": null,
   "metadata": {},
   "outputs": [],
   "source": [
    "ds = ArgoDataFetcher().profile(6902746, 34).to_xarray()\n",
    "df = ds.to_dataframe()\n",
    "df"
   ]
  },
  {
   "cell_type": "markdown",
   "metadata": {},
   "source": [
    "## Export data to files"
   ]
  },
  {
   "cell_type": "code",
   "execution_count": null,
   "metadata": {},
   "outputs": [],
   "source": [
    "ds = ArgoDataFetcher().region([-85,-45,10.,20.,0,100.,'2012-01','2012-12']).to_xarray()\n",
    "ds"
   ]
  },
  {
   "cell_type": "code",
   "execution_count": null,
   "metadata": {},
   "outputs": [],
   "source": [
    "ds.to_netcdf('my_selection.nc')\n",
    "!ls -l my_selection.nc"
   ]
  }
 ],
 "metadata": {
  "kernelspec": {
   "display_name": "obidam36",
   "language": "python",
   "name": "obidam36"
  },
  "language_info": {
   "codemirror_mode": {
    "name": "ipython",
    "version": 3
   },
   "file_extension": ".py",
   "mimetype": "text/x-python",
   "name": "python",
   "nbconvert_exporter": "python",
   "pygments_lexer": "ipython3",
   "version": "3.6.7"
  },
  "widgets": {
   "application/vnd.jupyter.widget-state+json": {
    "state": {},
    "version_major": 2,
    "version_minor": 0
   }
  }
 },
 "nbformat": 4,
 "nbformat_minor": 4
}
